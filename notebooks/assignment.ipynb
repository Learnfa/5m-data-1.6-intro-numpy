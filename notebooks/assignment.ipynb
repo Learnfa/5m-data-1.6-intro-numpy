{
 "cells": [
  {
   "cell_type": "code",
   "execution_count": 1,
   "id": "0c19d12f",
   "metadata": {},
   "outputs": [
    {
     "name": "stdout",
     "output_type": "stream",
     "text": [
      "hello world\n"
     ]
    }
   ],
   "source": [
    "print(\"hello world\")"
   ]
  },
  {
   "cell_type": "markdown",
   "id": "138c97b6",
   "metadata": {},
   "source": [
    "### Question 1\n",
    "Given the following numpy array:\n",
    "\n",
    "```python\n",
    "arr = np.array([1, 2, 3, 4, 5])\n",
    "```\n",
    "Write a Python code to multiply each element in the array by 2."
   ]
  },
  {
   "cell_type": "code",
   "execution_count": null,
   "id": "78094df7",
   "metadata": {},
   "outputs": [
    {
     "data": {
      "text/plain": [
       "array([ 2,  4,  6,  8, 10])"
      ]
     },
     "execution_count": 3,
     "metadata": {},
     "output_type": "execute_result"
    }
   ],
   "source": [
    "import numpy as np\n",
    "arr = np.array([1, 2, 3, 4, 5])\n",
    "arr_2x = 2 * arr\n",
    "arr_2x"
   ]
  },
  {
   "cell_type": "markdown",
   "id": "0aadfc7b",
   "metadata": {},
   "source": [
    "### Question 2\n",
    "\n",
    "Given the following 2D numpy array:\n",
    "\n",
    "```python\n",
    "arr = np.array([[1, 2, 3], [4, 5, 6], [7, 8, 9]])\n",
    "```\n",
    "\n",
    "Write a Python code to select the second row of the array.\n"
   ]
  },
  {
   "cell_type": "code",
   "execution_count": 16,
   "id": "f5d6caf5",
   "metadata": {},
   "outputs": [
    {
     "data": {
      "text/plain": [
       "array([4, 5, 6])"
      ]
     },
     "execution_count": 16,
     "metadata": {},
     "output_type": "execute_result"
    }
   ],
   "source": [
    "import numpy as np\n",
    "arr = np.array([[1, 2, 3], [4, 5, 6], [7, 8, 9]])\n",
    "row2 = arr[1]\n",
    "row2"
   ]
  },
  {
   "cell_type": "markdown",
   "id": "1b1f51f3",
   "metadata": {},
   "source": [
    "### Question 3\n",
    "\n",
    "Create a 2D numpy array of shape (5, 5) filled with the number 1."
   ]
  },
  {
   "cell_type": "code",
   "execution_count": 8,
   "id": "0a8b15c2",
   "metadata": {},
   "outputs": [
    {
     "data": {
      "text/plain": [
       "array([[1., 1., 1., 1., 1.],\n",
       "       [1., 1., 1., 1., 1.],\n",
       "       [1., 1., 1., 1., 1.],\n",
       "       [1., 1., 1., 1., 1.],\n",
       "       [1., 1., 1., 1., 1.]])"
      ]
     },
     "execution_count": 8,
     "metadata": {},
     "output_type": "execute_result"
    }
   ],
   "source": [
    "import numpy as np\n",
    "arr = np.ones((5,5))\n",
    "arr"
   ]
  },
  {
   "cell_type": "markdown",
   "id": "bdc90143",
   "metadata": {},
   "source": [
    "### Question 4\n",
    "\n",
    "Given the following 2D numpy array:\n",
    "\n",
    "```python\n",
    "arr = np.array([[1, 2, 3], [4, 5, 6], [7, 8, 9]])\n",
    "```\n",
    "\n",
    "Write a Python code to calculate the sum of all the elements in each row.\n"
   ]
  },
  {
   "cell_type": "code",
   "execution_count": 12,
   "id": "2b5055ce",
   "metadata": {},
   "outputs": [
    {
     "data": {
      "text/plain": [
       "array([ 6, 15, 24])"
      ]
     },
     "execution_count": 12,
     "metadata": {},
     "output_type": "execute_result"
    }
   ],
   "source": [
    "import numpy as np\n",
    "arr = np.array([[1, 2, 3], [4, 5, 6], [7, 8, 9]])\n",
    "sum_arr_by_row = np.sum(arr, axis=1)\n",
    "sum_arr_by_row"
   ]
  },
  {
   "cell_type": "markdown",
   "id": "d6ae1a03",
   "metadata": {},
   "source": [
    "### Question 5\n",
    "\n",
    "Given the following 2D numpy array:\n",
    "\n",
    "```python\n",
    "arr = np.array([[1, 2, 3], [4, 5, 6], [7, 8, 9]])\n",
    "```\n",
    "\n",
    "Write a Python code to calculate the average of all the elements."
   ]
  },
  {
   "cell_type": "code",
   "execution_count": 15,
   "id": "0d0dfa0f",
   "metadata": {},
   "outputs": [
    {
     "data": {
      "text/plain": [
       "5.0"
      ]
     },
     "execution_count": 15,
     "metadata": {},
     "output_type": "execute_result"
    }
   ],
   "source": [
    "import numpy as np\n",
    "arr = np.array([[1, 2, 3], [4, 5, 6], [7, 8, 9]])\n",
    "all_avg = np.mean(arr)\n",
    "all_avg"
   ]
  }
 ],
 "metadata": {
  "kernelspec": {
   "display_name": "pds",
   "language": "python",
   "name": "python3"
  },
  "language_info": {
   "codemirror_mode": {
    "name": "ipython",
    "version": 3
   },
   "file_extension": ".py",
   "mimetype": "text/x-python",
   "name": "python",
   "nbconvert_exporter": "python",
   "pygments_lexer": "ipython3",
   "version": "3.10.18"
  }
 },
 "nbformat": 4,
 "nbformat_minor": 5
}
